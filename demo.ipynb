{
 "cells": [
  {
   "cell_type": "code",
   "execution_count": 1,
   "metadata": {},
   "outputs": [
    {
     "name": "stdout",
     "output_type": "stream",
     "text": [
      "hello\n"
     ]
    }
   ],
   "source": [
    "print('hello')"
   ]
  },
  {
   "cell_type": "code",
   "execution_count": 10,
   "metadata": {},
   "outputs": [
    {
     "name": "stdout",
     "output_type": "stream",
     "text": [
      "가나다라\n",
      "hello world\n"
     ]
    }
   ],
   "source": [
    "print(\"가나다라\")\n",
    "print(\"hello world\")"
   ]
  },
  {
   "cell_type": "code",
   "execution_count": 11,
   "metadata": {},
   "outputs": [
    {
     "name": "stdout",
     "output_type": "stream",
     "text": [
      "1 2 3\n",
      "hello,python\n",
      "hellopython\n"
     ]
    }
   ],
   "source": [
    "print(1,2,3)\n",
    "print(\"hello,python\")\n",
    "print(\"hello\"+\"python\")"
   ]
  },
  {
   "cell_type": "code",
   "execution_count": 7,
   "metadata": {},
   "outputs": [
    {
     "name": "stdout",
     "output_type": "stream",
     "text": [
      "4,5,6\n",
      "010-1234-5678\n"
     ]
    }
   ],
   "source": [
    "print(4, 5, 6, sep=\",\")\n",
    "print(\"010\", \"1234\", \"5678\", sep=\"-\")"
   ]
  },
  {
   "cell_type": "code",
   "execution_count": 9,
   "metadata": {},
   "outputs": [
    {
     "name": "stdout",
     "output_type": "stream",
     "text": [
      "hellp world!"
     ]
    }
   ],
   "source": [
    "print(\"hellp world\", end=\"!\")"
   ]
  },
  {
   "cell_type": "code",
   "execution_count": 12,
   "metadata": {},
   "outputs": [
    {
     "name": "stdout",
     "output_type": "stream",
     "text": [
      "1\t2\\3\n"
     ]
    }
   ],
   "source": [
    "print(\"1\\t2\\\\3\")"
   ]
  },
  {
   "cell_type": "code",
   "execution_count": 14,
   "metadata": {},
   "outputs": [
    {
     "name": "stdout",
     "output_type": "stream",
     "text": [
      "1\n",
      "2\n",
      "3\n"
     ]
    }
   ],
   "source": [
    "print(\"1\\n2\\n3\")"
   ]
  },
  {
   "cell_type": "code",
   "execution_count": 2,
   "metadata": {},
   "outputs": [
    {
     "name": "stdout",
     "output_type": "stream",
     "text": [
      "대 한\n",
      "민 국\n"
     ]
    }
   ],
   "source": [
    "print(\"대 한\\n민 국\")"
   ]
  },
  {
   "cell_type": "code",
   "execution_count": 1,
   "metadata": {},
   "outputs": [
    {
     "name": "stdout",
     "output_type": "stream",
     "text": [
      "이름이 무엇인가요?"
     ]
    },
    {
     "data": {
      "text/plain": [
       "'홍길동'"
      ]
     },
     "execution_count": 1,
     "metadata": {},
     "output_type": "execute_result"
    }
   ],
   "source": [
    "print(\"이름이 무엇인가요?\", end=\"\"); input()"
   ]
  },
  {
   "cell_type": "code",
   "execution_count": 3,
   "metadata": {},
   "outputs": [
    {
     "data": {
      "text/plain": [
       "'박주효'"
      ]
     },
     "execution_count": 3,
     "metadata": {},
     "output_type": "execute_result"
    }
   ],
   "source": [
    "input(\"이름이 무엇인가요?\")"
   ]
  },
  {
   "cell_type": "code",
   "execution_count": 4,
   "metadata": {},
   "outputs": [
    {
     "name": "stdout",
     "output_type": "stream",
     "text": [
      "두 개의 값을 각각 입력하고 enter키를 누르시오\n",
      "59\n"
     ]
    }
   ],
   "source": [
    "print(\"두 개의 값을 각각 입력하고 enter키를 누르시오\")\n",
    "print(input()+input())"
   ]
  },
  {
   "cell_type": "code",
   "execution_count": 6,
   "metadata": {},
   "outputs": [
    {
     "name": "stdout",
     "output_type": "stream",
     "text": [
      "이들의 합은 9 이고 곱은 20 입니다\n"
     ]
    }
   ],
   "source": [
    "a= int(input(\"첫번째 정수\"))\n",
    "b= int(input(\"두번째정수\"))\n",
    "print(\"이들의 합은\",a+b,\"이고 곱은\", a*b ,\"입니다\")"
   ]
  },
  {
   "cell_type": "code",
   "execution_count": null,
   "metadata": {},
   "outputs": [],
   "source": [
    "# print(\"hello\")\n",
    "# print(\"박주효\")\n",
    "전체 주석처리 컨드롤 슬래쉬"
   ]
  },
  {
   "cell_type": "code",
   "execution_count": 8,
   "metadata": {},
   "outputs": [
    {
     "name": "stdout",
     "output_type": "stream",
     "text": [
      "본문 프로그램을 시작합니다\n"
     ]
    }
   ],
   "source": [
    "\"\"\"이 프로그램은 사용자와의 대화를 입출력하는 프로그램입니다. 문의사항이 있으시면, 담당자(홍길동, 010-1234-5678)에게 연락바랍니다.감사합니다\"\"\"\n",
    "print(\"본문 프로그램을 시작합니다\")"
   ]
  },
  {
   "cell_type": "code",
   "execution_count": 10,
   "metadata": {},
   "outputs": [
    {
     "name": "stdout",
     "output_type": "stream",
     "text": [
      "안녕하세요.반갑습니다.\n"
     ]
    }
   ],
   "source": [
    "str=(\"안녕하세요.\" + \"반갑습니다.\")\n",
    "print(str)"
   ]
  },
  {
   "cell_type": "code",
   "execution_count": 15,
   "metadata": {},
   "outputs": [
    {
     "name": "stdout",
     "output_type": "stream",
     "text": [
      "안녕하세요.반갑습니다.\n"
     ]
    }
   ],
   "source": [
    "str = \"안녕하세요.\"\\\n",
    "    + \"반갑습니다.\"\n",
    "print(str)"
   ]
  },
  {
   "cell_type": "code",
   "execution_count": 18,
   "metadata": {},
   "outputs": [
    {
     "name": "stdout",
     "output_type": "stream",
     "text": [
      "5 + 4 는 9 입니다\n"
     ]
    }
   ],
   "source": [
    "a= int(input(\"첫번째 정수\"))  #첫번째 정수 입력받기\n",
    "b= int(input(\"두번째정수\"))   #두번째 정수 입력받기\n",
    "c = input(\"연산자\")\n",
    "\n",
    " if c == \"+\":     #연산자 +일때 계산식을 d로 입력함\n",
    "    d = a + b\n",
    " elif c == \"-\":   #연산자 -일때 계산식 d로 입력함\n",
    "    d = a - b \n",
    " elif c == \"*\":   #연산자 *일때 계산식 d로 입력함\n",
    "    d = a * b\n",
    " elif c == \"/\":   #연산자 /일때 계산식 d로 입력함\n",
    "    d = a / b\n",
    "\n",
    "print(a, c, b, \"는\" ,d, \"입니다\") #입력받은 연산자를 if문을 통해 식 계산하여 출력\n",
    "\n",
    "\n",
    "\n",
    "    \n"
   ]
  },
  {
   "cell_type": "code",
   "execution_count": 6,
   "metadata": {},
   "outputs": [
    {
     "name": "stdout",
     "output_type": "stream",
     "text": [
      "python의 중간고사는 20점, 기말고사는 100점, 평균은 60.00\n"
     ]
    }
   ],
   "source": [
    "subject = \"python\"\n",
    "mid_score = 20\n",
    "final_score = 100\n",
    "average = (mid_score + final_score)/2\n",
    "print(\"%s의 중간고사는 %d점, 기말고사는 %d점, 평균은 %.2f\"\n",
    "%(subject, mid_score, final_score,average))"
   ]
  },
  {
   "cell_type": "code",
   "execution_count": 8,
   "metadata": {},
   "outputs": [
    {
     "name": "stdout",
     "output_type": "stream",
     "text": [
      "Mathematics의 중간고사는 88점, 기말고사는 77점, 평균은 82.500\n",
      "Mathematics의 평균은 82.5\n"
     ]
    }
   ],
   "source": [
    "\n",
    "subject = \"Mathematics\"\n",
    "mid_score = 88\n",
    "final_score = 77\n",
    "average = (mid_score + final_score)/2\n",
    "print(\"{0}의 중간고사는 {1}점, 기말고사는 {2}점, 평균은 {3:6.3f}\".format(subject, mid_score, final_score, average))\n",
    "print(\"{}의 평균은 {}\". format(subject, average))"
   ]
  },
  {
   "cell_type": "code",
   "execution_count": 9,
   "metadata": {},
   "outputs": [
    {
     "name": "stdout",
     "output_type": "stream",
     "text": [
      "Mathematics의 중간고사는 85점, 기말고사는90점, 평균은    87.5\n",
      "Mathematics의 평균은 87.5\n"
     ]
    }
   ],
   "source": [
    "#f-string사용\n",
    "subject = \"Mathematics\"\n",
    "mid_score = 85\n",
    "final_score = 90\n",
    "average = (mid_score + final_score)/2\n",
    "\n",
    "print(f\"{subject}의 중간고사는 {mid_score}점, 기말고사는{final_score}점, 평균은 {average:7.1f}\")\n",
    "print(f\"{subject}의 평균은 {average}\")"
   ]
  },
  {
   "cell_type": "code",
   "execution_count": 12,
   "metadata": {},
   "outputs": [
    {
     "name": "stdout",
     "output_type": "stream",
     "text": [
      "이름은 뽀로로이고 남성이며 나이는 8살, 몸무게는15kg이며 직업은 백수입니다\n"
     ]
    }
   ],
   "source": [
    "name = input(\"\")\n",
    "gender = input(\"\")\n",
    "old = input(\"\")\n",
    "kg = input(\"\")\n",
    "job = input(\"\")\n",
    "\n",
    "print(f\"이름은 {name}이고 {gender}이며 나이는 {old}살, 몸무게는{ kg}이며 직업은 {job}입니다\")"
   ]
  },
  {
   "cell_type": "code",
   "execution_count": 65,
   "metadata": {},
   "outputs": [
    {
     "name": "stdout",
     "output_type": "stream",
     "text": [
      "알파 센타우리는 태양계에서 39924000000000.0 떨어진 곳에 위치하고 있다.\n",
      " 파커의 속도는 530000km라고 한다.파커가 알파 센타우리까지 갔다오기까지걸리는 시간은17198.2이다.\n"
     ]
    }
   ],
   "source": [
    "distance= 3.9924e+13\n",
    "speed = 530000\n",
    "time = distance/speed\n",
    "\n",
    "print(f\"알파 센타우리는 태양계에서 {distance} 떨어진 곳에 위치하고 있다.\\n 파커의 속도는 {speed}km라고 한다.\\\n",
    "파커가 알파 센타우리까지 갔다오기까지걸리는 시간은{time/24/365*2:.1f}이다.\")\n",
    "\n",
    "#time에 24/365롤 써서 연으로 바꾸고 .f를 사용해 소수자리를 바꿔주었음"
   ]
  },
  {
   "cell_type": "code",
   "execution_count": 1,
   "metadata": {},
   "outputs": [
    {
     "name": "stdout",
     "output_type": "stream",
     "text": [
      "0.12345678987543213\n"
     ]
    }
   ],
   "source": [
    "my_number = 0.1234567898754321234567898745654123\n",
    "print(my_number)"
   ]
  },
  {
   "cell_type": "code",
   "execution_count": 2,
   "metadata": {},
   "outputs": [
    {
     "name": "stdout",
     "output_type": "stream",
     "text": [
      "28\n",
      "24\n",
      "59\n"
     ]
    }
   ],
   "source": [
    "import sys\n",
    "int_size = sys.getsizeof(12345)\n",
    "print(int_size)\n",
    "\n",
    "float_size = sys.getsizeof(3.145647)\n",
    "print(float_size)\n",
    "\n",
    "str_size = sys.getsizeof(\"Hi, python\")\n",
    "print(str_size)"
   ]
  },
  {
   "cell_type": "code",
   "execution_count": 4,
   "metadata": {},
   "outputs": [],
   "source": [
    "import turtle\n",
    "t = turtle.Turtle()\n",
    "t.shape(\"turtle\")\n",
    "t.forward(100)\n",
    "input()"
   ]
  },
  {
   "cell_type": "code",
   "execution_count": null,
   "metadata": {},
   "outputs": [],
   "source": [
    "import turtle as t\n",
    "\n",
    "t.shape(\"turtle\")\n",
    "t.bgcolor(\"black\")\n",
    "t.color(\"yellow\")\n",
    "\n",
    "s = t.Screen()\n",
    "\n",
    "n = 50\n",
    "\n",
    "def drawingStars(x, y):\n",
    "    t.penup()\n",
    "    t.goto(x, y)\n",
    "    t.pendown()\n",
    "    t.begin_fill()\n",
    "    for i in range(5):\n",
    "        t.fd(n)\n",
    "        t.lt(144)\n",
    "    t.end_fill()\n",
    "\n",
    "def sizeDown():\n",
    "    global n\n",
    "    n -= 10\n",
    "\n",
    "def sizeUp():\n",
    "    global n\n",
    "    n += 10\n",
    "\n",
    "s.onscreenclick(drawingStars)\n",
    "\n",
    "s.onkey(sizeDown, \"[\")\n",
    "s.onkey(sizeUp, \"]\")\n",
    "s.onkey(t.undo, \"Delete\")\n",
    "\n",
    "s.listen()"
   ]
  },
  {
   "cell_type": "code",
   "execution_count": 11,
   "metadata": {},
   "outputs": [
    {
     "name": "stdout",
     "output_type": "stream",
     "text": [
      " \n"
     ]
    }
   ],
   "source": [
    "str = \"python\"\n",
    "num1, num2 = 0, -2\n",
    "print(str*num1,str*num2)"
   ]
  },
  {
   "cell_type": "code",
   "execution_count": 12,
   "metadata": {},
   "outputs": [
    {
     "name": "stdout",
     "output_type": "stream",
     "text": [
      "13\n"
     ]
    }
   ],
   "source": [
    "first = int(input(\"첫번째 숫자를 입력하세요:\"))\n",
    "op = input(\"연산자를 입력하세요:\")\n",
    "second = int(input(\"두번째 숫자를 입력하세요:\"))\n",
    "\n",
    "if op == \"+\":\n",
    "    print(first+second)\n",
    "elif op == \"-\":\n",
    "    print(first-second)\n",
    "elif op == \"*\":\n",
    "    print(first*second)\n",
    "elif op == \"/\":\n",
    "    if second ==\"0\":\n",
    "        print(\"0으로 나눌수 없습니다\")\n",
    "    else:\n",
    "        print(first/second)\n",
    "else:\n",
    "    print(\"잘못 입력하셨습니다\")"
   ]
  },
  {
   "cell_type": "code",
   "execution_count": 14,
   "metadata": {},
   "outputs": [
    {
     "name": "stdout",
     "output_type": "stream",
     "text": [
      "12\n",
      "-4\n",
      "32\n",
      "0.5\n"
     ]
    }
   ],
   "source": [
    "\n",
    "def xy_sum(x,y):\n",
    "    result = x+y\n",
    "    return result\n",
    "\n",
    "def xy_sub(x,y):\n",
    "    result = x-y\n",
    "    return result\n",
    "\n",
    "def xy_mul(x,y):\n",
    "    result = x*y\n",
    "    return result\n",
    "\n",
    "def xy_div(x,y):\n",
    "    result = x/y\n",
    "    return result\n",
    "\n",
    "x= int(input())\n",
    "y=int(input())\n",
    "\n",
    "print(xy_sum(x,y))\n",
    "print(xy_sub(x,y))\n",
    "print(xy_mul(x,y))\n",
    "print(xy_div(x,y))\n",
    "\n"
   ]
  },
  {
   "cell_type": "code",
   "execution_count": null,
   "metadata": {},
   "outputs": [],
   "source": [
    "p = int(input(\"가구인원수\": )\n",
    "if p == 1:\n",
    "    money = 1,000,000\n",
    "    "
   ]
  },
  {
   "cell_type": "code",
   "execution_count": null,
   "metadata": {},
   "outputs": [],
   "source": [
    "p = int(input(\"가구인원수\" ))\n",
    "if p == 1:\n",
    "    print(\"보상금은 %s 원입니다\" %\"1,000,000\")\n",
    "elif p == 2:\n",
    "    print(\"보상금은 %s 원입니다\" %\"3,000,000\")\n",
    "elif p == 3:\n",
    "    print(\"보상금은 %s 원입니다\" %\"5,000,000\")\n",
    "elif p == 4:\n",
    "    print(\"보상금은 %s 원입니다\" %\"7,000,000\")\n",
    "elif p == 5:\n",
    "    print(\"보상금은 %s 원입니다\" %\"10,000,000\")\n",
    "\n"
   ]
  },
  {
   "cell_type": "code",
   "execution_count": null,
   "metadata": {},
   "outputs": [],
   "source": [
    "import random\n",
    "pclist= [\"가위\",\"바위\",\"보\"]\n",
    "pc = random.choice(pclist)\n",
    "user = input(\"뭐낼래?=\")\n",
    "\n",
    "print(\"내가 낸거 / pc가 낸거\")\n",
    "print(f\"{user} / {pc}\")\n",
    "\n",
    "\n",
    "if user == \"가위\":\n",
    "    if pc == \"가위\":\n",
    "        print(\"비겼습니다\")\n",
    "    elif pc == \"바위\":\n",
    "        print(\"졌습니다\")\n",
    "    elif pc == \"보\":\n",
    "        print(\"이겼습니다\")\n",
    "\n",
    "if user == \"바위\":\n",
    "    if pc == \"가위\":\n",
    "        print(\"이겼습니다\")\n",
    "    elif pc == \"바위\":\n",
    "        print(\"비겼습니다\")\n",
    "    elif pc == \"보\":\n",
    "        print(\"졌습니다\")\n",
    "        \n",
    "if user == \"보\":\n",
    "    if pc == \"가위\":\n",
    "        print(\"졌습니다\")\n",
    "    elif pc == \"바위\":\n",
    "        print(\"이겼습니다\")\n",
    "    elif pc == \"보\":\n",
    "        print(\"비겼습니다\")"
   ]
  },
  {
   "cell_type": "code",
   "execution_count": null,
   "metadata": {},
   "outputs": [],
   "source": [
    "import numpy as np\n",
    "import pandas as pd\n",
    "import matplotlib.pylab as plt\n",
    "\n",
    "from sklearn.datasets import load_iris"
   ]
  },
  {
   "cell_type": "code",
   "execution_count": null,
   "metadata": {},
   "outputs": [],
   "source": [
    "iris = load_iris()\n",
    "iris.data[1,1]"
   ]
  },
  {
   "cell_type": "code",
   "execution_count": 1,
   "metadata": {},
   "outputs": [
    {
     "name": "stdout",
     "output_type": "stream",
     "text": [
      "1 은 홀수\n",
      "2 은 짝수\n",
      "3 은 홀수\n",
      "4 은 짝수\n",
      "5 은 홀수\n",
      "6 은 짝수\n",
      "7 은 홀수\n",
      "8 은 짝수\n",
      "9 은 홀수\n",
      "10 은 짝수\n",
      "11 은 홀수\n",
      "12 은 짝수\n",
      "13 은 홀수\n",
      "14 은 짝수\n",
      "15 은 홀수\n",
      "16 은 짝수\n",
      "17 은 홀수\n",
      "18 은 짝수\n",
      "19 은 홀수\n",
      "20 은 짝수\n"
     ]
    }
   ],
   "source": [
    "num = 1\n",
    "while num <=20:\n",
    "    if num % 2 ==0:\n",
    "        print(num,\"은 짝수\")\n",
    "    else:\n",
    "        print(num,\"은 홀수\")\n",
    "    num +=1"
   ]
  },
  {
   "cell_type": "code",
   "execution_count": 3,
   "metadata": {},
   "outputs": [
    {
     "name": "stdout",
     "output_type": "stream",
     "text": [
      "현재온도: 29.5\n",
      "현재온도: 29.0\n",
      "현재온도: 28.5\n",
      "현재온도: 28.0\n",
      "현재온도: 27.5\n",
      "현재온도: 27.0\n",
      "현재온도: 26.5\n",
      "현재온도: 26.0\n",
      "현재온도: 25.5\n",
      "현재온도: 25.0\n",
      "냉방기능 종료!\n"
     ]
    }
   ],
   "source": [
    "current_temp = 30.0\n",
    "target_temp = float(input(\"희망온도:\"))\n",
    "\n",
    "for i in range(1000):\n",
    "    current_temp -= 0.5\n",
    "    print(\"현재온도:\",current_temp)\n",
    "    if current_temp <= target_temp:\n",
    "        break\n",
    "print(\"냉방기능 종료!\")"
   ]
  },
  {
   "cell_type": "code",
   "execution_count": 9,
   "metadata": {},
   "outputs": [
    {
     "name": "stdout",
     "output_type": "stream",
     "text": [
      "현재온도: 29.5\n",
      "현재온도: 29.0\n",
      "현재온도: 28.5\n",
      "현재온도: 28.0\n",
      "현재온도: 27.5\n",
      "현재온도: 27.0\n",
      "현재온도: 26.5\n",
      "현재온도: 26.0\n",
      "현재온도: 25.5\n",
      "현재온도: 25.0\n",
      "현재온도: 24.5\n",
      "현재온도: 24.0\n",
      "냉방기능 종료!\n"
     ]
    }
   ],
   "source": [
    "current_temp = 30.0\n",
    "target_temp = float(input(\"희망온도:\"))\n",
    "while current_temp >target_temp:\n",
    "    current_temp -=0.5\n",
    "    print(\"현재온도:\",current_temp)\n",
    "   \n",
    "print(\"냉방기능 종료!\")"
   ]
  },
  {
   "cell_type": "code",
   "execution_count": 10,
   "metadata": {},
   "outputs": [
    {
     "name": "stdout",
     "output_type": "stream",
     "text": [
      "0\n",
      "1\n",
      "2\n",
      "3\n",
      "4\n",
      "5\n",
      "while문이 다돌았음.\n"
     ]
    }
   ],
   "source": [
    "num = 0\n",
    "while num <= 5 :\n",
    "    print(num)\n",
    "    num+=1\n",
    "else :\n",
    "    print(\"while문이 다돌았음.\")"
   ]
  },
  {
   "cell_type": "code",
   "execution_count": 11,
   "metadata": {},
   "outputs": [
    {
     "name": "stdout",
     "output_type": "stream",
     "text": [
      "수박이있음\n"
     ]
    }
   ],
   "source": [
    "bucket = [\"딸기\",\"수박\",\"참외\",\"사과\"]\n",
    "\n",
    "for fruit in bucket:\n",
    "    if fruit == \"수박\":\n",
    "        print(\"수박이있음\")\n",
    "        break\n",
    "else:\n",
    "    print(\"수박이 없음\")"
   ]
  },
  {
   "cell_type": "code",
   "execution_count": 38,
   "metadata": {},
   "outputs": [
    {
     "name": "stdout",
     "output_type": "stream",
     "text": [
      "2*1=2\t3*1=3\t4*1=4\t5*1=5\t6*1=6\t7*1=7\t8*1=8\t9*1=9\t\n",
      "2*2=4\t3*2=6\t4*2=8\t5*2=10\t6*2=12\t7*2=14\t8*2=16\t9*2=18\t\n",
      "2*3=6\t3*3=9\t4*3=12\t5*3=15\t6*3=18\t7*3=21\t8*3=24\t9*3=27\t\n",
      "2*4=8\t3*4=12\t4*4=16\t5*4=20\t6*4=24\t7*4=28\t8*4=32\t9*4=36\t\n",
      "2*5=10\t3*5=15\t4*5=20\t5*5=25\t6*5=30\t7*5=35\t8*5=40\t9*5=45\t\n",
      "2*6=12\t3*6=18\t4*6=24\t5*6=30\t6*6=36\t7*6=42\t8*6=48\t9*6=54\t\n",
      "2*7=14\t3*7=21\t4*7=28\t5*7=35\t6*7=42\t7*7=49\t8*7=56\t9*7=63\t\n",
      "2*8=16\t3*8=24\t4*8=32\t5*8=40\t6*8=48\t7*8=56\t8*8=64\t9*8=72\t\n",
      "2*9=18\t3*9=27\t4*9=36\t5*9=45\t6*9=54\t7*9=63\t8*9=72\t9*9=81\t\n"
     ]
    }
   ],
   "source": [
    "for i in range(1,10):\n",
    "    for j in range(2,10):\n",
    "        print(\"{}*{}={}\".format(j,i,i*j),end=\"\\t\")\n",
    "    print()\n",
    "\n"
   ]
  },
  {
   "cell_type": "code",
   "execution_count": 2,
   "metadata": {},
   "outputs": [
    {
     "name": "stdout",
     "output_type": "stream",
     "text": [
      "2\n",
      "4\n"
     ]
    }
   ],
   "source": [
    "sports = ['축구', '야구', '테니스', '골프', '농구']\n",
    "print(sports.index('테니스'))\n",
    "print(sports.index('농구'))"
   ]
  },
  {
   "cell_type": "code",
   "execution_count": 9,
   "metadata": {},
   "outputs": [
    {
     "name": "stdout",
     "output_type": "stream",
     "text": [
      "4\n",
      "1\n"
     ]
    }
   ],
   "source": [
    "a = [\"foo\",\"bar\",\"baz\",\"qux\",\"quux\",\"corge\"]\n",
    "print(a.index(\"quux\"))\n",
    "print(a.index(\"bar\"))"
   ]
  },
  {
   "cell_type": "code",
   "execution_count": 11,
   "metadata": {},
   "outputs": [
    {
     "name": "stdout",
     "output_type": "stream",
     "text": [
      "참와\n"
     ]
    }
   ],
   "source": [
    "fruits = [\"사과\", \"딸기\", \"포도\",\"참와\",\"수박\",\"무화과\",\"복숭아\"]\n",
    "print(fruits[3])"
   ]
  },
  {
   "cell_type": "code",
   "execution_count": 12,
   "metadata": {},
   "outputs": [
    {
     "name": "stdout",
     "output_type": "stream",
     "text": [
      "fruit: 사과\n",
      "fruit: 포도\n",
      "fruit: 수박\n"
     ]
    }
   ],
   "source": [
    "fruits = [\"사과\",\"포도\",\"수박\"]\n",
    "for fruit in fruits:\n",
    "    print(\"fruit:\", fruit)"
   ]
  },
  {
   "cell_type": "code",
   "execution_count": 14,
   "metadata": {},
   "outputs": [
    {
     "name": "stdout",
     "output_type": "stream",
     "text": [
      "축구\n",
      "야구\n",
      "테니스\n",
      "골프\n",
      "농구\n"
     ]
    }
   ],
   "source": [
    "sports = ['축구', '야구', '테니스', '골프', '농구']\n",
    "i = 0\n",
    "while i < len(sports):\n",
    "    print(sports[i])\n",
    "    i += 1"
   ]
  },
  {
   "cell_type": "code",
   "execution_count": 28,
   "metadata": {},
   "outputs": [
    {
     "name": "stdout",
     "output_type": "stream",
     "text": [
      "-----------\n",
      "1.친구 리스트 출력\n",
      "2.친구추가\n",
      "3.친구삭제\n",
      "4.이름변경\n",
      "9.종료\n"
     ]
    },
    {
     "ename": "NameError",
     "evalue": "name 'old_name' is not defined",
     "output_type": "error",
     "traceback": [
      "\u001b[1;31m---------------------------------------------------------------------------\u001b[0m",
      "\u001b[1;31mNameError\u001b[0m                                 Traceback (most recent call last)",
      "\u001b[1;32mC:\\Users\\PARKJU~1\\AppData\\Local\\Temp/ipykernel_6012/3399664786.py\u001b[0m in \u001b[0;36m<module>\u001b[1;34m\u001b[0m\n\u001b[0;32m     27\u001b[0m     \u001b[1;32melif\u001b[0m \u001b[0mselect\u001b[0m \u001b[1;33m==\u001b[0m \u001b[1;36m4\u001b[0m\u001b[1;33m:\u001b[0m\u001b[1;33m\u001b[0m\u001b[1;33m\u001b[0m\u001b[0m\n\u001b[0;32m     28\u001b[0m         \u001b[0mold_name\u001b[0m \u001b[1;33m=\u001b[0m \u001b[0minput\u001b[0m\u001b[1;33m(\u001b[0m\u001b[1;34m\"변경하고 싶은 이름을 입력하시오:\"\u001b[0m\u001b[1;33m)\u001b[0m\u001b[1;33m\u001b[0m\u001b[1;33m\u001b[0m\u001b[0m\n\u001b[1;32m---> 29\u001b[1;33m     \u001b[1;32mif\u001b[0m \u001b[0mold_name\u001b[0m \u001b[1;32min\u001b[0m \u001b[0mfriends\u001b[0m\u001b[1;33m:\u001b[0m\u001b[1;33m\u001b[0m\u001b[1;33m\u001b[0m\u001b[0m\n\u001b[0m\u001b[0;32m     30\u001b[0m             \u001b[0mindex\u001b[0m \u001b[1;33m=\u001b[0m \u001b[0mfriends\u001b[0m\u001b[1;33m.\u001b[0m\u001b[0mindex\u001b[0m\u001b[1;33m(\u001b[0m\u001b[0mold_name\u001b[0m\u001b[1;33m)\u001b[0m\u001b[1;33m\u001b[0m\u001b[1;33m\u001b[0m\u001b[0m\n\u001b[0;32m     31\u001b[0m             \u001b[0mnew_name\u001b[0m \u001b[1;33m=\u001b[0m \u001b[0minput\u001b[0m\u001b[1;33m(\u001b[0m\u001b[1;34m\"새로운 이름을 입력하세요:\"\u001b[0m\u001b[1;33m)\u001b[0m\u001b[1;33m\u001b[0m\u001b[1;33m\u001b[0m\u001b[0m\n",
      "\u001b[1;31mNameError\u001b[0m: name 'old_name' is not defined"
     ]
    }
   ],
   "source": [
    "friends = [\"상식\",\"해영\",\"강미\",\"마탄\",\"감동이\",\"행복이\",\"까칠이\",\"슬픔이\",\"슬픔이\"] \n",
    "select = 0\n",
    "\n",
    "while select!= 9:\n",
    "    print(\"-----------\")\n",
    "    print(\"1.친구 리스트 출력\")\n",
    "    print(\"2.친구추가\")\n",
    "    print(\"3.친구삭제\")\n",
    "    print(\"4.이름변경\")\n",
    "    print(\"9.종료\")\n",
    "    select = int(input(\"원하는 메뉴를 선택하세요:\"))\n",
    "\n",
    "    if select == 1:\n",
    "        print(friends)\n",
    "\n",
    "    elif select == 2:\n",
    "        add_name = input(\"이름을 입력하시오:\")\n",
    "        friends.append(add_name)\n",
    "\n",
    "    elif select == 3:\n",
    "        del_name = input(\"삭제할 이름을 입력하시오:\")\n",
    "        if del_name in friends:\n",
    "            friends.remove(del_name)\n",
    "        else:\n",
    "            print(\"해당 이름이 존재하지 않습니다.\")\n",
    "\n",
    "    elif select == 4:\n",
    "        old_name = input(\"변경하고 싶은 이름을 입력하시오:\")\n",
    "    if old_name in friends:\n",
    "            index = friends.index(old_name)\n",
    "            new_name = input(\"새로운 이름을 입력하세요:\")\n",
    "            friends[index]=new_name\n",
    "    else:\n",
    "        print(\"해당 이름이 존재하지 않습니다\")"
   ]
  },
  {
   "cell_type": "code",
   "execution_count": 23,
   "metadata": {},
   "outputs": [
    {
     "name": "stdout",
     "output_type": "stream",
     "text": [
      "['football', 'baseball', 'volleyball', 'basketball', 'baseball']\n",
      "['football', 'volleyball', 'basketball']\n"
     ]
    }
   ],
   "source": [
    "sports = [\"football\",\"baseball\",\"volleyball\",\"basketball\",\"baseball\"]\n",
    "print(sports)\n",
    "for sport in sports:\n",
    "    if sport == \"baseball\":\n",
    "        sports.remove(\"baseball\")\n",
    "print(sports)"
   ]
  },
  {
   "cell_type": "code",
   "execution_count": 24,
   "metadata": {},
   "outputs": [
    {
     "name": "stdout",
     "output_type": "stream",
     "text": [
      "['사과', '망고', '수박', '포도', '참외']\n"
     ]
    }
   ],
   "source": [
    "fruits = ['사과', '망고', '당근', '수박', '포도', '참외', '토마토']\n",
    "for fruit in fruits:\n",
    "    if fruit == \"당근\":\n",
    "        fruits.remove(\"당근\")\n",
    "    elif fruit == \"토마토\":\n",
    "        fruits.remove(\"토마토\")\n",
    "print(fruits)"
   ]
  },
  {
   "cell_type": "code",
   "execution_count": null,
   "metadata": {},
   "outputs": [],
   "source": [
    "class Contact:\n",
    "    def __init__(self,name,phone_numver,e_mail,addr):\n",
    "        self.name = name\n",
    "        self.phone_number = phone_number\n",
    "        self.e_mail = e_mail\n",
    "        self.addr = addr\n",
    "\n",
    "    def print_info(self):\n",
    "        print(\"Name:\", self.name)\n",
    "        print(\"Phone Number:\", self.phone_number)\n",
    "        print(\"E-mail: \",self.e_mail)\n",
    "        print(\"address: \", self.addr)\n",
    "\n",
    "def set_contact():\n",
    "    name = input(\"Name:\")\n",
    "    phone_number = input(\"Phone Number:\")\n",
    "    e_mail = input(\"E- mail:\")\n",
    "    addr = input(\"Address: \")\n",
    "    contact = Contact(name, phone_number, e_mail, addr)\n",
    "    return contact\n",
    "\n",
    "def print_menu():\n",
    "    print(\"1.연락처 입ㄺ\")       \n",
    "\n"
   ]
  },
  {
   "cell_type": "code",
   "execution_count": 49,
   "metadata": {},
   "outputs": [
    {
     "name": "stdout",
     "output_type": "stream",
     "text": [
      "1. 친구 리스트 출력 2. 친구 추가 3.친구 삭제 4. 이름 변경 9.종료 \n",
      "메뉴를 선택하시오: 0\n",
      "친구 추가가 완료되었습니다\n",
      "1. 친구 리스트 출력 2. 친구 추가 3.친구 삭제 4. 이름 변경 9.종료 \n",
      "메뉴를 선택하시오: 2\n",
      "친구 리스트는: [['기쁨이', '인공지능학과'], ['슬픔이', '건축학과'], ['마탄이', '경제학과'], ['소심이', '전자공학과'], '주효']\n",
      "1. 친구 리스트 출력 2. 친구 추가 3.친구 삭제 4. 이름 변경 9.종료 \n",
      "메뉴를 선택하시오: 1\n",
      "종료되었습니다.\n"
     ]
    }
   ],
   "source": [
    "friends= [[\"기쁨이\",\"인공지능학과\"], \n",
    "          [\"슬픔이\", \"건축학과\"], \n",
    "          [\"마탄이\", \"통계학과\"],\n",
    "          [\"소심이\",\"전자공학과\"]]\n",
    "select=0\n",
    "while select!=9:\n",
    "  print(\"1. 친구 리스트 출력\", \"2. 친구 추가\", \"3.친구 삭제\", \"4. 이름 변경\", \"9.종료 \")\n",
    "  print(\"메뉴를 선택하시오:\" , select)\n",
    "  select=int(input())\n",
    "\n",
    "  if select==1:\n",
    "    print(\"친구 리스트는:\", friends)\n",
    "    continue\n",
    "\n",
    "  elif select==2:\n",
    "    addfriend=input(\"추가할 친구 이름을 입력하세요:\")\n",
    "    friends.append(addfriend)\n",
    "    print(\"친구 추가가 완료되었습니다\")\n",
    "    continue\n",
    "\n",
    "  elif select==3:\n",
    "    remfriend=input(\"삭제할 친구 이름을 입력하세요:\")\n",
    "    friends.remove(remfriend)\n",
    "    print(\"친구 삭제가 완료되었습니다\")\n",
    "    continue\n",
    "\n",
    "  elif select==4:\n",
    "    chfriend=input(\"이름을 변경할 친구 이름을 입력하세요:\")\n",
    "    chdfriend=input(\"변경 후 이름을 입력하세요:\")\n",
    "    a=friends.index(chfriend)\n",
    "    friends.insert(a,chdfriend)\n",
    "    friends.remove(chfriend)\n",
    "    continue\n",
    "  else:\n",
    "    print(\"종료되었습니다.\")\n",
    "    break"
   ]
  },
  {
   "cell_type": "code",
   "execution_count": 4,
   "metadata": {},
   "outputs": [
    {
     "name": "stdout",
     "output_type": "stream",
     "text": [
      "('축구', '야구', '배구', '농구', '골프', '테니스')\n"
     ]
    }
   ],
   "source": [
    "my_sports = (\"축구\",\"야구\",\"배구\")\n",
    "your_sports = (\"농구\",\"골프\",\"테니스\")\n",
    "\n",
    "my_sports = my_sports + your_sports\n",
    "print(my_sports)"
   ]
  },
  {
   "cell_type": "code",
   "execution_count": 5,
   "metadata": {},
   "outputs": [
    {
     "name": "stdout",
     "output_type": "stream",
     "text": [
      "[30, 40, 50]\n",
      "[10, 20, 30]\n",
      "[20, 30, 40]\n",
      "[10, 30, 50]\n"
     ]
    }
   ],
   "source": [
    "tuple_num = ( 40, 20, 10, 70, 50, 60, 30)\n",
    "sorted_num = sorted(tuple_num)\n",
    "\n",
    "print(sorted_num[2:5])\n",
    "print(sorted_num[:3])\n",
    "print(sorted_num[1:4])\n",
    "print(sorted_num[:6:2])\n"
   ]
  },
  {
   "cell_type": "code",
   "execution_count": 16,
   "metadata": {},
   "outputs": [
    {
     "name": "stdout",
     "output_type": "stream",
     "text": [
      "{'PARK'}\n"
     ]
    }
   ],
   "source": [
    "A = set([\"KIM\",\"LEE\",\"PARK\"])\n",
    "B = set([\"PARK\",\"choi\"])\n",
    "\n",
    "print(A & B)"
   ]
  },
  {
   "cell_type": "code",
   "execution_count": 20,
   "metadata": {},
   "outputs": [
    {
     "ename": "IndentationError",
     "evalue": "expected an indented block (Temp/ipykernel_7820/212258395.py, line 3)",
     "output_type": "error",
     "traceback": [
      "\u001b[1;36m  File \u001b[1;32m\"C:\\Users\\PARKJU~1\\AppData\\Local\\Temp/ipykernel_7820/212258395.py\"\u001b[1;36m, line \u001b[1;32m3\u001b[0m\n\u001b[1;33m    st = dict()\u001b[0m\n\u001b[1;37m    ^\u001b[0m\n\u001b[1;31mIndentationError\u001b[0m\u001b[1;31m:\u001b[0m expected an indented block\n"
     ]
    }
   ],
   "source": [
    "lst = []\n",
    "for i in range(4):\n",
    "st = dict()\n",
    "st['no'] = input('번호 : ')\n",
    "st['name'] = input('이름 : ')\n",
    "st['kor'] = int(input('국어 : '))\n",
    "st['eng'] = int(input('영어 : '))\n",
    "st['mat'] = int(input('수학 : '))\n",
    "st['sci'] = int(input('과학 : '))\n",
    "st['tot'] = st['kor'] + st['eng'] + st['mat'] + st['sci']\n",
    "st['ave'] = st['tot'] / 4\n",
    "lst.append(st)\n",
    "print(\"번호 이 름 국어 영어 수학 과학 총점 평균\")\n",
    "for i in range(len(lst)):\n",
    "st = lst[i]\n",
    "print(\" %2s %-6s %3d %3d %3d %3d %3d %6.2f\"\n",
    "% (st['no'], st['name'],\n",
    "st['kor'], st['eng'], st['mat'], st['sci'],\n",
    "st['tot'], st['ave']))"
   ]
  },
  {
   "cell_type": "markdown",
   "metadata": {},
   "source": []
  },
  {
   "cell_type": "code",
   "execution_count": 43,
   "metadata": {},
   "outputs": [
    {
     "ename": "TypeError",
     "evalue": "'builtin_function_or_method' object is not iterable",
     "output_type": "error",
     "traceback": [
      "\u001b[1;31m---------------------------------------------------------------------------\u001b[0m",
      "\u001b[1;31mTypeError\u001b[0m                                 Traceback (most recent call last)",
      "\u001b[1;32mC:\\Users\\PARKJU~1\\AppData\\Local\\Temp/ipykernel_7820/657233111.py\u001b[0m in \u001b[0;36m<module>\u001b[1;34m\u001b[0m\n\u001b[1;32m----> 1\u001b[1;33m \u001b[0mstudent\u001b[0m \u001b[1;33m=\u001b[0m \u001b[0mdict\u001b[0m\u001b[1;33m(\u001b[0m\u001b[0mid\u001b[0m\u001b[1;33m)\u001b[0m\u001b[1;33m\u001b[0m\u001b[1;33m\u001b[0m\u001b[0m\n\u001b[0m\u001b[0;32m      2\u001b[0m \u001b[1;33m\u001b[0m\u001b[0m\n\u001b[0;32m      3\u001b[0m \u001b[1;32mwhile\u001b[0m \u001b[1;32mTrue\u001b[0m\u001b[1;33m:\u001b[0m\u001b[1;33m\u001b[0m\u001b[1;33m\u001b[0m\u001b[0m\n\u001b[0;32m      4\u001b[0m     \u001b[0mprint\u001b[0m\u001b[1;33m(\u001b[0m\u001b[1;34m'1.성적 추가 2. 성적 삭제 3. 성적 변경 4. 성적현황 출력'\u001b[0m\u001b[1;33m)\u001b[0m\u001b[1;33m\u001b[0m\u001b[1;33m\u001b[0m\u001b[0m\n\u001b[0;32m      5\u001b[0m \u001b[1;33m\u001b[0m\u001b[0m\n",
      "\u001b[1;31mTypeError\u001b[0m: 'builtin_function_or_method' object is not iterable"
     ]
    }
   ],
   "source": [
    "student = dict(id)\n",
    "\n",
    "while True:\n",
    "    print('1.성적 추가 2. 성적 삭제 3. 성적 변경 4. 성적현황 출력')\n",
    "\n",
    "\n",
    "    select = input()\n",
    "\n",
    "    selcet = int(select)\n",
    "    \n",
    "    if select == 1:\n",
    "        id=input('학번 : ')\n",
    "            \n",
    "        if ( id not in student) == True:\n",
    "            name = input('이름 : ')\n",
    "            kor = int(input('국어 : '))\n",
    "            eng = int(input('영어 : '))\n",
    "            math = int(input('수학 : '))\n",
    "            print('입력 완료')\n",
    "            total = kor+eng+math\n",
    "            avg = round(total/3,3)\n",
    "            \n",
    "            student[id] = [name,kor,eng,math,total,avg]\n",
    "                       \n",
    "            continue\n",
    "        else:\n",
    "            print('학생이 이미 존재')\n",
    "            \n",
    "    if select == 2:\n",
    "        search = input('학번 : ')\n",
    "        if(delete in student) == True:\n",
    "            avg.pop(delete)\n",
    "            print('삭제 완료')\n",
    "            continue\n",
    "        else:\n",
    "            print('학생 정보 X')\n",
    "            continue\n",
    "        \n",
    "    \n",
    "    if select == 3:\n",
    "        update = input('수정할 학생의 학번을 입력 : ')\n",
    "            \n",
    "        if(update in student) == True:\n",
    "            name = input('이름 입력 : ')\n",
    "            kor =  int(input('국어 성적: '))\n",
    "            eng =  int(input('영어 성적: '))\n",
    "            math = int(input('수학 성적: '))\n",
    "            print('성적 입력 완료.')\n",
    "\n",
    "            score = kor+eng+math\n",
    "            avg = round(score/3, 3)\n",
    "            \n",
    "            student[update] = [name,kor,eng,math,score,avg]\n",
    "            continue\n",
    "        else:\n",
    "            print('학생이 존재하지 않음')\n",
    "            continue\n",
    "    if select ==4:\n",
    "        for id in student:\n",
    "            print('학번: ', id,'이름: ', name)\n",
    "            print('[이름]\\t\\t[국어]\\t[영어]\\t[수학]\\t[총점]\\t[평균]')\n",
    "            \n",
    "            info = student[id]\n",
    "            for i in range(len(info)):\n",
    "                print(info[i:i+1],end='\\t')\n",
    "            print()\n",
    "            continue\n",
    "    if select == 5:\n",
    "        break"
   ]
  },
  {
   "cell_type": "code",
   "execution_count": 31,
   "metadata": {},
   "outputs": [
    {
     "name": "stdout",
     "output_type": "stream",
     "text": [
      "{'2022': ['주효', '80']}\n"
     ]
    }
   ],
   "source": [
    "in_msg = '2022,주효,80'\n",
    "splited = in_msg.split(',')\n",
    "\n",
    "student = dict()\n",
    "student[splited[0]] = [splited[1],splited[2]]\n",
    "\n",
    "print(student)"
   ]
  },
  {
   "cell_type": "code",
   "execution_count": 41,
   "metadata": {},
   "outputs": [
    {
     "name": "stdout",
     "output_type": "stream",
     "text": [
      "1.성적 추가 2. 성적 삭제 3. 성적 변경 4. 성적현황 출력\n",
      "merong~~~~\n"
     ]
    }
   ],
   "source": [
    "print('1.성적 추가 2. 성적 삭제 3. 성적 변경 4. 성적현황 출력')\n",
    "\n",
    "number = input()\n",
    "\n",
    "number = int(number)\n",
    "\n",
    "if number == 1:\n",
    "    print('merong')\n",
    "\n",
    "\n",
    "if number == 2:\n",
    "    print('merong!!!!')\n",
    "\n",
    "\n",
    "if number == 3:\n",
    "    print('merong~~~~')"
   ]
  },
  {
   "cell_type": "code",
   "execution_count": 42,
   "metadata": {},
   "outputs": [
    {
     "name": "stdout",
     "output_type": "stream",
     "text": [
      "True\n",
      "False\n",
      "True\n"
     ]
    }
   ],
   "source": [
    "print(1 == 1)\n",
    "print(1 == '1')\n",
    "print(1 == int('1'))"
   ]
  },
  {
   "cell_type": "code",
   "execution_count": null,
   "metadata": {},
   "outputs": [],
   "source": [
    "def hello_korea():\n",
    "    print(\"안녕!\")"
   ]
  },
  {
   "cell_type": "code",
   "execution_count": 1,
   "metadata": {},
   "outputs": [
    {
     "name": "stdout",
     "output_type": "stream",
     "text": [
      "홍길동  씨 안녕하세요\n"
     ]
    }
   ],
   "source": [
    "def greet(name):\n",
    "    print(name, \" 씨 안녕하세요\")\n",
    "greet(\"홍길동\")"
   ]
  },
  {
   "cell_type": "code",
   "execution_count": 4,
   "metadata": {},
   "outputs": [],
   "source": [
    "def notice_score(*scores):\n",
    "    sum_score = 0\n",
    "    for score in scores:\n",
    "        sum_score += score\n",
    "    print(\"평균점수는\", sum_score/len(scores),\"입니다\")"
   ]
  },
  {
   "cell_type": "code",
   "execution_count": 6,
   "metadata": {},
   "outputs": [
    {
     "name": "stdout",
     "output_type": "stream",
     "text": [
      "name: 홍길동 age: 20 salary: 300 name: 김이박 age: 21 salary: 200 gender:남\n",
      "subject:인공지능\n"
     ]
    }
   ],
   "source": [
    "def member_info(name, age, salary, **kwargs):\n",
    "    print(\"name:\",name,\"age:\",age,\"salary:\",salary,end=\" \")\n",
    "    for keyword, value in kwargs.items():\n",
    "        print(keyword, value, sep = \":\")\n",
    "\n",
    "member_info(\"홍길동\",20,300)\n",
    "member_info(\"김이박\",21,200, gender = \"남\", subject='인공지능')"
   ]
  },
  {
   "cell_type": "code",
   "execution_count": 17,
   "metadata": {},
   "outputs": [
    {
     "name": "stdout",
     "output_type": "stream",
     "text": [
      "색상이 blue 로 변경되었습니다.\n",
      "색상이 yellow 로 변경되었습니다.\n",
      "전방으로 100 만큼 이동하였습니다.\n",
      "후방으로 50 만큼 이동하였습니다.\n",
      "가격은 9000000 로 변경되었습니다\n",
      "가격은 80000000000 로 변경되었습니다\n"
     ]
    }
   ],
   "source": [
    "class Car:\n",
    "    def __init__(self, color, length, money):\n",
    "        self.color = color\n",
    "        self.length = length\n",
    "        self.price = money\n",
    "        self.position = 0\n",
    "\n",
    "    def change_color(self, color):\n",
    "        self.color = color\n",
    "        print('색상이',color, '로 변경되었습니다.')\n",
    "\n",
    "    def move_forward(self, distance):\n",
    "        self.position += distance\n",
    "        print('전방으로', distance, '만큼 이동하였습니다.')\n",
    "\n",
    "    def move_backward(self, distance):\n",
    "        self.position -= distance\n",
    "        print('후방으로', distance, '만큼 이동하였습니다.')\n",
    "\n",
    "    def change_price(self, money):\n",
    "        self.position = money\n",
    "        print(\"가격은\",money,\"로 변경되었습니다\")\n",
    "\n",
    "car1 = Car('black', 400, 1000000)\n",
    "car2 = Car('red', 350,40000)\n",
    "car1.change_color('blue')\n",
    "car2.change_color('yellow')\n",
    "car1.move_forward(100)\n",
    "car2.move_backward(50)\n",
    "car1.change_price(9000000)\n",
    "car2.change_price(80000000000)"
   ]
  },
  {
   "cell_type": "code",
   "execution_count": 2,
   "metadata": {},
   "outputs": [
    {
     "name": "stdout",
     "output_type": "stream",
     "text": [
      "['금메달', '은메달', '동메달']\n",
      "['금메달', '은메달', '동메달']\n"
     ]
    }
   ],
   "source": [
    "class Person:\n",
    "    bag = []\n",
    "    def put_bag(self, stuff):\n",
    "        Person.bag.append(stuff)\n",
    "\n",
    "Person.bag = ['금메달']\n",
    "james = Person()\n",
    "james.put_bag('은메달')\n",
    "maria = Person()\n",
    "maria.put_bag('동메달')\n",
    "print(james.bag)\n",
    "print(maria.bag)\n"
   ]
  },
  {
   "cell_type": "code",
   "execution_count": 3,
   "metadata": {},
   "outputs": [
    {
     "name": "stdout",
     "output_type": "stream",
     "text": [
      "['은메달']\n",
      "['동메달']\n"
     ]
    }
   ],
   "source": [
    "class Person:\n",
    "    def __init__(self):\n",
    "        self.bag = []\n",
    "    def put_bag(self, stuff):\n",
    "        self.bag.append(stuff)\n",
    "james = Person()\n",
    "james.put_bag('은메달')\n",
    "maria = Person()\n",
    "maria.put_bag('동메달')\n",
    "print(james.bag)\n",
    "print(maria.bag)"
   ]
  },
  {
   "cell_type": "code",
   "execution_count": 4,
   "metadata": {},
   "outputs": [
    {
     "name": "stdout",
     "output_type": "stream",
     "text": [
      "['은메달']\n",
      "['동메달']\n",
      "Person 수: 2\n"
     ]
    }
   ],
   "source": [
    "class Person:\n",
    "    count = 0\n",
    "    def __init__(self):\n",
    "        self.bag = []\n",
    "    def put_bag(self, stuff):\n",
    "        self.bag.append(stuff)\n",
    "\n",
    "james = Person()\n",
    "Person.count += 1\n",
    "james.put_bag('은메달')\n",
    "\n",
    "maria = Person()\n",
    "Person.count += 1\n",
    "maria.put_bag('동메달')\n",
    "\n",
    "print(james.bag); print(maria.bag)\n",
    "print(f'Person 수: {Person.count}')"
   ]
  },
  {
   "cell_type": "code",
   "execution_count": 7,
   "metadata": {},
   "outputs": [
    {
     "name": "stdout",
     "output_type": "stream",
     "text": [
      "이제 7000원 남았습니다.\n"
     ]
    },
    {
     "ename": "AttributeError",
     "evalue": "'Person' object has no attribute '__wallet'",
     "output_type": "error",
     "traceback": [
      "\u001b[1;31m---------------------------------------------------------------------------\u001b[0m",
      "\u001b[1;31mAttributeError\u001b[0m                            Traceback (most recent call last)",
      "\u001b[1;32mC:\\Users\\PARKJU~1\\AppData\\Local\\Temp/ipykernel_11460/2476416671.py\u001b[0m in \u001b[0;36m<module>\u001b[1;34m\u001b[0m\n\u001b[0;32m     10\u001b[0m \u001b[0mmaria\u001b[0m \u001b[1;33m=\u001b[0m \u001b[0mPerson\u001b[0m\u001b[1;33m(\u001b[0m\u001b[1;34m'마리아'\u001b[0m\u001b[1;33m,\u001b[0m \u001b[1;36m10000\u001b[0m\u001b[1;33m)\u001b[0m\u001b[1;33m\u001b[0m\u001b[1;33m\u001b[0m\u001b[0m\n\u001b[0;32m     11\u001b[0m \u001b[0mmaria\u001b[0m\u001b[1;33m.\u001b[0m\u001b[0mpay\u001b[0m\u001b[1;33m(\u001b[0m\u001b[1;36m3000\u001b[0m\u001b[1;33m)\u001b[0m\u001b[1;33m\u001b[0m\u001b[1;33m\u001b[0m\u001b[0m\n\u001b[1;32m---> 12\u001b[1;33m \u001b[0mprint\u001b[0m\u001b[1;33m(\u001b[0m\u001b[1;34mf'마리아의 지갑에는 {maria.__wallet}원 있음.'\u001b[0m\u001b[1;33m)\u001b[0m \u001b[1;31m# 에러 발생 지점\u001b[0m\u001b[1;33m\u001b[0m\u001b[1;33m\u001b[0m\u001b[0m\n\u001b[0m",
      "\u001b[1;31mAttributeError\u001b[0m: 'Person' object has no attribute '__wallet'"
     ]
    }
   ],
   "source": [
    "class Person:\n",
    "    def __init__(self, name, wallet):\n",
    "        self.name = name\n",
    "        self.__wallet = wallet # 비공개 속성 지정\n",
    "        \n",
    "    def pay(self, amount):\n",
    "        self.__wallet -= amount\n",
    "        print(f'이제 {self.__wallet}원 남았습니다.')\n",
    "\n",
    "maria = Person('마리아', 10000)\n",
    "maria.pay(3000)\n",
    "print(f'마리아의 지갑에는 {maria.__wallet}원 있음.') # 에러 발생 지점"
   ]
  },
  {
   "cell_type": "code",
   "execution_count": 12,
   "metadata": {},
   "outputs": [
    {
     "name": "stdout",
     "output_type": "stream",
     "text": [
      "God\n",
      "human\n",
      "heraclues\n",
      "God\n",
      "thunder\n",
      "{'race': 'human', 'age': 30, 'name': 'Edward', 'power': 'run'}\n",
      "run\n"
     ]
    }
   ],
   "source": [
    "#!/usr/bin/python\n",
    "\n",
    "class God():\n",
    "    def __init__(self):\n",
    "        self.race = \"God\"\n",
    "        self.age = 1000\n",
    "        self.name = 'Zeus'\n",
    "\n",
    "class Person():\n",
    "    def __init__(self):\n",
    "        self.race = 'human'\n",
    "        self.age = 30\n",
    "        self.name = 'Edward'\n",
    "\n",
    "class DemiGod(God):\n",
    "    def __init__(self):\n",
    "        super().__init__()\n",
    "        self.name = \"heraclues\"\n",
    "\n",
    "    def __getattr__(self, attr):\n",
    "    \t# __getattr__ 를 재정의 하여 __dict__의 값을 반환하도록 수정 \n",
    "        if attr in self.__dict__:\n",
    "            return self.__dict__[attr]\n",
    "        return None\n",
    "\n",
    "# 신 \n",
    "g = God()\n",
    "print(g.race)\n",
    "\n",
    "# 사람 \n",
    "p = Person()\n",
    "print(p.race)\n",
    "\n",
    "# 반인반신 \n",
    "d = DemiGod()\n",
    "print(d.name)\n",
    "print(d.race)\n",
    "\n",
    "# 속성 추가 \n",
    "d.power = \"thunder\"\n",
    "print(d.power)\n",
    "\n",
    "# Person 객체는 __getattr__ 를 오버라이딩 하지 않았기 때문에 속성으로 데이터를 가져가는 것은 불가 \n",
    "# __dict__ 를 이용하여 데이터 출력 \n",
    "p.power = \"run\"\n",
    "print(p.__dict__)\n",
    "print(p.__dict__['power'])"
   ]
  },
  {
   "cell_type": "code",
   "execution_count": 23,
   "metadata": {},
   "outputs": [
    {
     "name": "stdout",
     "output_type": "stream",
     "text": [
      "더하기\n",
      "150000\n",
      "50000\n",
      "5000000000\n",
      "2.0\n",
      "False\n"
     ]
    }
   ],
   "source": [
    "class Fruit(object):\n",
    "\n",
    "    def __init__(self, name, price):\n",
    "        self._name = name\n",
    "        self._price = price\n",
    "    def __add__(self, target):\n",
    "        print(\"더하기\")\n",
    "        return self._price + target._price  \n",
    "    def __sub__(self, target):\n",
    "        return self._price - target._price\n",
    "    def __mul__(self, target):\n",
    "        return self._price * target._price\n",
    "    def __truediv__(self, target):\n",
    "        return self._price / target._price\n",
    "    def __lt__(self,target):\n",
    "        return self._price < target._price\n",
    "        \n",
    "\n",
    "apple = Fruit(\"사과\", 100000)\n",
    "durian = Fruit(\"두리안\", 50000)\n",
    "print(apple + durian); print(apple - durian)\n",
    "print(apple * durian)\n",
    "print(apple / durian)\n",
    "print(apple < durian)\n",
    "\n",
    "# object.__it__(self, other)\n",
    "# object.__le__(self,other)\n",
    "# object.__eq__(self,other)\n",
    "# object.__ne__(self,other)\n",
    "# object.__gt__(self,other)\n",
    "# object.__ge__(self,other)\n",
    "\n",
    "# lt는 less than 으로 < 를,\n",
    "\n",
    "# le는 less or equal로 <= 를,\n",
    "\n",
    "# eq는 equal로 ==를,\n",
    "\n",
    "# ne는 not equal로 !=를,\n",
    "\n",
    "# gt는 great than으로 >를,\n",
    "\n",
    "# ge는 great or equal로 >=를 의미합니다."
   ]
  },
  {
   "cell_type": "code",
   "execution_count": 26,
   "metadata": {},
   "outputs": [
    {
     "name": "stdout",
     "output_type": "stream",
     "text": [
      "잠자기\n",
      "공부하기\n",
      "일하기\n"
     ]
    }
   ],
   "source": [
    "class Person:\n",
    "    def sleep(self):\n",
    "        print('잠자기')\n",
    "class Student(Person):\n",
    "    def study(self):\n",
    "        print('공부하기')\n",
    "class Worker(Person):\n",
    "    def work(self):\n",
    "        print('일하기')\n",
    "class PartWorker(Student,Worker):\n",
    "    def find_job(self):\n",
    "        print('직업 찾기')\n",
    "\n",
    "part_worker = PartWorker()\n",
    "part_worker.sleep()\n",
    "part_worker.study()\n",
    "part_worker.work()"
   ]
  },
  {
   "cell_type": "code",
   "execution_count": 27,
   "metadata": {},
   "outputs": [
    {
     "name": "stdout",
     "output_type": "stream",
     "text": [
      "멍멍\n",
      "꽥꽦\n"
     ]
    }
   ],
   "source": [
    "class Animal:\n",
    "    def __init__(self, name):\n",
    "        self.name = name\n",
    "    def move(self):\n",
    "        print(\"move\")\n",
    "    def speak(self):\n",
    "        pass\n",
    "class Dog (Animal):\n",
    "    def speak(self):\n",
    "        print(\"멍멍\")\n",
    "class Duck (Animal):\n",
    "    def speak(self):\n",
    "        print(\"꽥꽦\")\n",
    "\n",
    "animals = [Dog('doggy'),Duck('duck')]\n",
    "for animal in animals:\n",
    "    animal.speak()"
   ]
  },
  {
   "cell_type": "code",
   "execution_count": 28,
   "metadata": {},
   "outputs": [
    {
     "name": "stdout",
     "output_type": "stream",
     "text": [
      "hello 함수 시작\n",
      "hello\n",
      "hello 함수 끝\n",
      "world 함수 시작\n",
      "world\n",
      "world 함수 끝\n"
     ]
    }
   ],
   "source": [
    "#데코레이터\n",
    "def hello():\n",
    "    print('hello 함수 시작')\n",
    "    print('hello')\n",
    "    print('hello 함수 끝')\n",
    "def world():\n",
    "    print('world 함수 시작')\n",
    "    print('world')\n",
    "    print('world 함수 끝')\n",
    "hello()\n",
    "world()\n"
   ]
  },
  {
   "cell_type": "code",
   "execution_count": 30,
   "metadata": {},
   "outputs": [
    {
     "name": "stdout",
     "output_type": "stream",
     "text": [
      "hello 함수 시작\n",
      "hello\n",
      "hello 함수 끝\n",
      "world 함수 시작\n",
      "world\n",
      "world 함수 끝\n"
     ]
    }
   ],
   "source": [
    "def trace(func):\n",
    "    def wrapper():\n",
    "        print(func.__name__, '함수 시작')\n",
    "        func()\n",
    "        print(func.__name__, '함수 끝')\n",
    "    return wrapper\n",
    "@trace # @데코레이터\n",
    "def hello():\n",
    "    print('hello')\n",
    "@trace # @데코레이터\n",
    "def world():\n",
    "    print('world')\n",
    "    \n",
    "hello() # 함수를 그대로 호출\n",
    "world() # 함수를 그대로 호출"
   ]
  },
  {
   "cell_type": "code",
   "execution_count": 32,
   "metadata": {},
   "outputs": [
    {
     "name": "stdout",
     "output_type": "stream",
     "text": [
      "공부하기\n",
      "학교가기\n"
     ]
    }
   ],
   "source": [
    "from abc import *\n",
    "\n",
    "class StudentBase(metaclass=ABCMeta):\n",
    "    @abstractmethod\n",
    "    def study(self):\n",
    "        pass\n",
    "    @abstractmethod\n",
    "    def go_to_school(self):\n",
    "        pass\n",
    "class Student(StudentBase):\n",
    "    def study(self):\n",
    "        print('공부하기')\n",
    "\n",
    "    def go_to_school(self):\n",
    "        print('학교가기')\n",
    "\n",
    "james = Student() # 모든 추상 메소드가 구현이 안되면 에러 발생\n",
    "james.study()\n",
    "james.go_to_school()"
   ]
  },
  {
   "cell_type": "code",
   "execution_count": 2,
   "metadata": {},
   "outputs": [
    {
     "ename": "ModuleNotFoundError",
     "evalue": "No module named 'pygame'",
     "output_type": "error",
     "traceback": [
      "\u001b[1;31m---------------------------------------------------------------------------\u001b[0m",
      "\u001b[1;31mModuleNotFoundError\u001b[0m                       Traceback (most recent call last)",
      "\u001b[1;32mC:\\Users\\PARKJU~1\\AppData\\Local\\Temp/ipykernel_15716/469158074.py\u001b[0m in \u001b[0;36m<module>\u001b[1;34m\u001b[0m\n\u001b[1;32m----> 1\u001b[1;33m \u001b[1;32mimport\u001b[0m \u001b[0mpygame\u001b[0m\u001b[1;33m\u001b[0m\u001b[1;33m\u001b[0m\u001b[0m\n\u001b[0m\u001b[0;32m      2\u001b[0m \u001b[1;31m# 색 정의\u001b[0m\u001b[1;33m\u001b[0m\u001b[1;33m\u001b[0m\u001b[0m\n\u001b[0;32m      3\u001b[0m \u001b[0mBLACK\u001b[0m \u001b[1;33m=\u001b[0m \u001b[1;33m(\u001b[0m\u001b[1;36m0\u001b[0m\u001b[1;33m,\u001b[0m \u001b[1;36m0\u001b[0m\u001b[1;33m,\u001b[0m \u001b[1;36m0\u001b[0m\u001b[1;33m)\u001b[0m\u001b[1;33m\u001b[0m\u001b[1;33m\u001b[0m\u001b[0m\n\u001b[0;32m      4\u001b[0m \u001b[0mRED\u001b[0m \u001b[1;33m=\u001b[0m \u001b[1;33m(\u001b[0m\u001b[1;36m255\u001b[0m\u001b[1;33m,\u001b[0m \u001b[1;36m0\u001b[0m\u001b[1;33m,\u001b[0m \u001b[1;36m0\u001b[0m\u001b[1;33m)\u001b[0m\u001b[1;33m\u001b[0m\u001b[1;33m\u001b[0m\u001b[0m\n\u001b[0;32m      5\u001b[0m \u001b[0mGREEN\u001b[0m \u001b[1;33m=\u001b[0m \u001b[1;33m(\u001b[0m\u001b[1;36m0\u001b[0m\u001b[1;33m,\u001b[0m \u001b[1;36m255\u001b[0m\u001b[1;33m,\u001b[0m \u001b[1;36m0\u001b[0m\u001b[1;33m)\u001b[0m\u001b[1;33m\u001b[0m\u001b[1;33m\u001b[0m\u001b[0m\n",
      "\u001b[1;31mModuleNotFoundError\u001b[0m: No module named 'pygame'"
     ]
    }
   ],
   "source": [
    "import pygame\n",
    "# 색 정의\n",
    "BLACK = (0, 0, 0)\n",
    "RED = (255, 0, 0)\n",
    "GREEN = (0, 255, 0)\n",
    "BLUE = (0, 0, 255)\n",
    "WHITE = (255, 255, 255)\n",
    "pygame.init()\n",
    "# 윈도우 오픈 및 크기, 제목 설정\n",
    "screen=pygame.display.set_mode((300,200))\n",
    "pygame.display.set_caption(\"게임 윈도우\")\n",
    "# 처리속도를 제어하기 위한 Clock 객체 생성\n",
    "clock=pygame.time.Clock()\n",
    "\n",
    "run = True # 이벤트 루프 flag\n",
    "# 이벤트 루프\n",
    "while run:\n",
    "# 이벤트 읽기\n",
    "    for event in pygame.event.get():\n",
    "# 종료버튼을 누르면\n",
    "        if event.type == pygame.QUIT:\n",
    "            run = False # 루프 종료\n",
    "# 스크린 배경색 설정\n",
    "    screen.fill(WHITE)\n",
    "# 디스플레이 갱신 및 화면 표시\n",
    "    pygame.display.flip()\n",
    "# 초 당 20 프레임으로 제한\n",
    "    clock.tick(20)\n",
    "# 프로그램 종료\n",
    "pygame.quit ()"
   ]
  },
  {
   "cell_type": "code",
   "execution_count": 3,
   "metadata": {},
   "outputs": [
    {
     "name": "stdout",
     "output_type": "stream",
     "text": [
      "hello\n"
     ]
    }
   ],
   "source": [
    "print('hello')"
   ]
  }
 ],
 "metadata": {
  "kernelspec": {
   "display_name": "Python 3.9.7 ('base')",
   "language": "python",
   "name": "python3"
  },
  "language_info": {
   "codemirror_mode": {
    "name": "ipython",
    "version": 3
   },
   "file_extension": ".py",
   "mimetype": "text/x-python",
   "name": "python",
   "nbconvert_exporter": "python",
   "pygments_lexer": "ipython3",
   "version": "3.9.7"
  },
  "orig_nbformat": 4,
  "vscode": {
   "interpreter": {
    "hash": "d7288e82646d3164eca24130947288f8779d11454649f2c02a5dfc42af7f324c"
   }
  }
 },
 "nbformat": 4,
 "nbformat_minor": 2
}
