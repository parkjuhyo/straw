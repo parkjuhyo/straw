{
 "cells": [
  {
   "cell_type": "code",
   "execution_count": 1,
   "metadata": {},
   "outputs": [
    {
     "name": "stdout",
     "output_type": "stream",
     "text": [
      "[ 0.33333333 -2.66666667 -1.66666667]\n"
     ]
    }
   ],
   "source": [
    "#1번\n",
    "import numpy as np\n",
    "A = np.array([[1,-2,1],[0,2,-8],[5,0,-5]])\n",
    "B = np.array([4,8,10])\n",
    "C = np.linalg.solve(A,B)\n",
    "print(C)"
   ]
  },
  {
   "cell_type": "code",
   "execution_count": 11,
   "metadata": {},
   "outputs": [
    {
     "name": "stdout",
     "output_type": "stream",
     "text": [
      "-11.999999999999995\n",
      "[[-0.25        0.25       -0.75      ]\n",
      " [ 1.08333333 -0.41666667  0.25      ]\n",
      " [-0.66666667  0.33333333 -0.        ]]\n"
     ]
    }
   ],
   "source": [
    "#2번\n",
    "#행렬식\n",
    "import numpy as np\n",
    "d_array = np.array([[1,3,3],[2,6,9],[-1,1,2]])                \n",
    "d_array_det = np.linalg.det(d_array)                \n",
    "print(d_array_det)   \n",
    "\n",
    "#역행렬\n",
    "a_array = np.array([[1,3,3],[2,6,9],[-1,1,2]])                \n",
    "a_array_inv = np.linalg.inv(a_array)                #\n",
    "print(a_array_inv)  \n",
    " "
   ]
  },
  {
   "cell_type": "code",
   "execution_count": 12,
   "metadata": {},
   "outputs": [
    {
     "name": "stdout",
     "output_type": "stream",
     "text": [
      "[0.5547002  0.83205029]\n"
     ]
    }
   ],
   "source": [
    "#3번\n",
    "import numpy as np\n",
    "\n",
    "vector=np.array([2,3])\n",
    "\n",
    "unit_vector = vector / np.linalg.norm(vector)\n",
    "print(unit_vector)"
   ]
  },
  {
   "cell_type": "code",
   "execution_count": 15,
   "metadata": {},
   "outputs": [],
   "source": [
    "#4번"
   ]
  },
  {
   "cell_type": "code",
   "execution_count": 28,
   "metadata": {},
   "outputs": [
    {
     "name": "stdout",
     "output_type": "stream",
     "text": [
      "[0.43844719 4.56155281]\n",
      "[[-0.5392856  -0.36365914]\n",
      " [ 0.84212294 -0.93153209]]\n"
     ]
    }
   ],
   "source": [
    "# #5번\n",
    "import numpy as np\n",
    "import numpy.linalg as alg\n",
    "\n",
    "A=np.array([[2,1],[4,3]])\n",
    "_eigenvalue,_eigenvector=alg.eig(A)\n",
    "print(_eigenvalue)\n",
    "print(_eigenvector)\n"
   ]
  },
  {
   "cell_type": "code",
   "execution_count": 22,
   "metadata": {},
   "outputs": [
    {
     "name": "stdout",
     "output_type": "stream",
     "text": [
      "[[3 1]\n",
      " [2 2]\n",
      " [1 3]]\n",
      "[[-5.77350269e-01  7.07106781e-01  4.08248290e-01]\n",
      " [-5.77350269e-01  2.01032697e-16 -8.16496581e-01]\n",
      " [-5.77350269e-01 -7.07106781e-01  4.08248290e-01]]\n",
      "[4.89897949 2.        ]\n",
      "[[-0.70710678 -0.70710678]\n",
      " [ 0.70710678 -0.70710678]]\n",
      "[[1 2]\n",
      " [3 4]\n",
      " [5 6]]\n",
      "[[1. 2.]\n",
      " [3. 4.]\n",
      " [5. 6.]]\n"
     ]
    }
   ],
   "source": [
    "#6번\n",
    "#특이값\n",
    "from numpy import array\n",
    "from scipy.linalg import svd\n",
    "A = array([[3,1], [2,2], [1,3]])\n",
    "print(A)\n",
    "U, s, VT = svd(A)\n",
    "print(U)\n",
    "print(s)\n",
    "print(VT)\n",
    "\n",
    "#특이행렬\n",
    "from numpy import array\n",
    "from numpy import diag\n",
    "from numpy import dot\n",
    "from numpy import zeros\n",
    "from scipy.linalg import svd\n",
    "\n",
    "A = array([[1, 2], [3, 4], [5, 6]])\n",
    "print(A)\n",
    "\n",
    "U, s, VT = svd(A)\n",
    "\n",
    "Sigma = zeros((A.shape[0], A.shape[1]))\n",
    "\n",
    "Sigma[:A.shape[1], :A.shape[1]] = diag(s)\n",
    "B = U.dot(Sigma.dot(VT))\n",
    "print(B)\n",
    " "
   ]
  },
  {
   "cell_type": "code",
   "execution_count": 23,
   "metadata": {},
   "outputs": [
    {
     "name": "stdout",
     "output_type": "stream",
     "text": [
      "[Matrix([\n",
      "[ 7/4],\n",
      "[-1/4],\n",
      "[  -1],\n",
      "[   1]])]\n"
     ]
    },
    {
     "data": {
      "text/plain": [
       "[]"
      ]
     },
     "execution_count": 23,
     "metadata": {},
     "output_type": "execute_result"
    }
   ],
   "source": [
    "#7번\n",
    "from sympy import *\n",
    "m=Matrix([[1,3,3,2], [2,6,9,7],[-1,1,2,4]])\n",
    "print(m.nullspace())\n",
    "[]\n",
    "\n"
   ]
  }
 ],
 "metadata": {
  "kernelspec": {
   "display_name": "base",
   "language": "python",
   "name": "python3"
  },
  "language_info": {
   "codemirror_mode": {
    "name": "ipython",
    "version": 3
   },
   "file_extension": ".py",
   "mimetype": "text/x-python",
   "name": "python",
   "nbconvert_exporter": "python",
   "pygments_lexer": "ipython3",
   "version": "3.9.7"
  },
  "orig_nbformat": 4,
  "vscode": {
   "interpreter": {
    "hash": "f5e9d2699a4e9c5dbf99d179677fc1cb8ee28d683ee147474a8a910b4244a369"
   }
  }
 },
 "nbformat": 4,
 "nbformat_minor": 2
}
